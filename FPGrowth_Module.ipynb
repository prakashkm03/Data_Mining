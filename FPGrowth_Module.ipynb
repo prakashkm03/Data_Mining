{
  "nbformat": 4,
  "nbformat_minor": 0,
  "metadata": {
    "colab": {
      "name": "Lab6_FPGrowth_Module.ipynb",
      "version": "0.3.2",
      "provenance": []
    },
    "kernelspec": {
      "name": "python3",
      "display_name": "Python 3"
    }
  },
  "cells": [
    {
      "cell_type": "code",
      "metadata": {
        "id": "dAu0jMDXdzDv",
        "colab_type": "code",
        "colab": {}
      },
      "source": [
        "#Name: Prakash Kumar\n",
        "#Roll: 161210033\n",
        "#Lab 6 : Dated 15/02/19"
      ],
      "execution_count": 0,
      "outputs": []
    },
    {
      "cell_type": "markdown",
      "metadata": {
        "id": "R2_eS9bgIy_u",
        "colab_type": "text"
      },
      "source": [
        "### Implementation of FP Growth Algorithm using inbuilt python module."
      ]
    },
    {
      "cell_type": "code",
      "metadata": {
        "id": "O1NeAq0gX8RG",
        "colab_type": "code",
        "outputId": "22d85de0-3bea-41dc-9e7b-fbb6a8c40286",
        "colab": {
          "base_uri": "https://localhost:8080/",
          "height": 170
        }
      },
      "source": [
        "import numpy as np\n",
        "import pandas as pd\n",
        "import csv\n",
        "!pip install pyfpgrowth\n",
        "import pyfpgrowth\n",
        "from pprint import pprint"
      ],
      "execution_count": 0,
      "outputs": [
        {
          "output_type": "stream",
          "text": [
            "Collecting pyfpgrowth\n",
            "\u001b[?25l  Downloading https://files.pythonhosted.org/packages/d2/4c/8b7cd90b4118ff0286d6584909b99e1ca5642bdc9072fa5a8dd361c864a0/pyfpgrowth-1.0.tar.gz (1.6MB)\n",
            "\u001b[K    100% |████████████████████████████████| 1.6MB 16.2MB/s \n",
            "\u001b[?25hBuilding wheels for collected packages: pyfpgrowth\n",
            "  Building wheel for pyfpgrowth (setup.py) ... \u001b[?25ldone\n",
            "\u001b[?25h  Stored in directory: /root/.cache/pip/wheels/3b/3f/0d/a04bb8b17887c1eca7d0f1a48d4aa0c09c96eb221ff7fa56c1\n",
            "Successfully built pyfpgrowth\n",
            "Installing collected packages: pyfpgrowth\n",
            "Successfully installed pyfpgrowth-1.0\n"
          ],
          "name": "stdout"
        }
      ]
    },
    {
      "cell_type": "code",
      "metadata": {
        "id": "ElsxIw9Zbwxi",
        "colab_type": "code",
        "outputId": "32375833-3c5c-4f40-a487-fa6467a4d809",
        "colab": {
          "base_uri": "https://localhost:8080/",
          "height": 391
        }
      },
      "source": [
        "#Uploading the GroceryStore DataSet from google drive\n",
        "from google.colab import drive\n",
        "drive.mount('/content/gdrive')\n",
        "\n",
        "#Creating the dataframe \n",
        "dataframe = pd.read_csv('/content/gdrive/My Drive/data/GroceryStoreDataSet.csv',\n",
        "                        sep=',', header=None)\n",
        "dataset = dataframe[0].map(lambda x: x.split(','))\n",
        "dataset"
      ],
      "execution_count": 0,
      "outputs": [
        {
          "output_type": "stream",
          "text": [
            "Drive already mounted at /content/gdrive; to attempt to forcibly remount, call drive.mount(\"/content/gdrive\", force_remount=True).\n"
          ],
          "name": "stdout"
        },
        {
          "output_type": "execute_result",
          "data": {
            "text/plain": [
              "0                  [MILK, BREAD, BISCUIT]\n",
              "1      [BREAD, MILK, BISCUIT, CORNFLAKES]\n",
              "2                 [BREAD, TEA, BOURNVITA]\n",
              "3               [JAM, MAGGI, BREAD, MILK]\n",
              "4                   [MAGGI, TEA, BISCUIT]\n",
              "5                 [BREAD, TEA, BOURNVITA]\n",
              "6                [MAGGI, TEA, CORNFLAKES]\n",
              "7            [MAGGI, BREAD, TEA, BISCUIT]\n",
              "8                [JAM, MAGGI, BREAD, TEA]\n",
              "9                           [BREAD, MILK]\n",
              "10    [COFFEE, COCK, BISCUIT, CORNFLAKES]\n",
              "11    [COFFEE, COCK, BISCUIT, CORNFLAKES]\n",
              "12             [COFFEE, SUGER, BOURNVITA]\n",
              "13                  [BREAD, COFFEE, COCK]\n",
              "14                [BREAD, SUGER, BISCUIT]\n",
              "15            [COFFEE, SUGER, CORNFLAKES]\n",
              "16              [BREAD, SUGER, BOURNVITA]\n",
              "17                 [BREAD, COFFEE, SUGER]\n",
              "18                 [BREAD, COFFEE, SUGER]\n",
              "19        [TEA, MILK, COFFEE, CORNFLAKES]\n",
              "Name: 0, dtype: object"
            ]
          },
          "metadata": {
            "tags": []
          },
          "execution_count": 3
        }
      ]
    },
    {
      "cell_type": "code",
      "metadata": {
        "id": "jjxO3SRCck8B",
        "colab_type": "code",
        "outputId": "06502c8c-cad1-4db8-a3ad-74a9d6e1e305",
        "colab": {
          "base_uri": "https://localhost:8080/",
          "height": 340
        }
      },
      "source": [
        "#Using find_frequent_patterns to find patterns that occur over the support threshold\n",
        "patterns = pyfpgrowth.find_frequent_patterns(dataset, 3)\n",
        "pprint(patterns)"
      ],
      "execution_count": 0,
      "outputs": [
        {
          "output_type": "stream",
          "text": [
            "{('BISCUIT',): 7,\n",
            " ('BISCUIT', 'BREAD'): 4,\n",
            " ('BISCUIT', 'CORNFLAKES'): 3,\n",
            " ('BOURNVITA',): 4,\n",
            " ('BOURNVITA', 'BREAD'): 3,\n",
            " ('BREAD',): 13,\n",
            " ('BREAD', 'COFFEE'): 3,\n",
            " ('BREAD', 'MAGGI'): 3,\n",
            " ('BREAD', 'MILK'): 4,\n",
            " ('BREAD', 'SUGER'): 4,\n",
            " ('BREAD', 'TEA'): 4,\n",
            " ('COCK',): 3,\n",
            " ('COCK', 'COFFEE'): 3,\n",
            " ('COFFEE',): 8,\n",
            " ('COFFEE', 'CORNFLAKES'): 4,\n",
            " ('COFFEE', 'SUGER'): 4,\n",
            " ('MAGGI', 'TEA'): 4,\n",
            " ('MILK',): 5,\n",
            " ('TEA',): 7}\n"
          ],
          "name": "stdout"
        }
      ]
    },
    {
      "cell_type": "code",
      "metadata": {
        "id": "qnBnrh8hdPhg",
        "colab_type": "code",
        "outputId": "7a216831-7e0d-4ea8-c933-b8ec74702054",
        "colab": {
          "base_uri": "https://localhost:8080/",
          "height": 68
        }
      },
      "source": [
        "#Using generate_association_rules to find \n",
        "#patterns that are associated with another with a certain minimum probability\n",
        "rules = pyfpgrowth.generate_association_rules(patterns, 0.7)\n",
        "pprint(rules)"
      ],
      "execution_count": 0,
      "outputs": [
        {
          "output_type": "stream",
          "text": [
            "{('BOURNVITA',): (('BREAD',), 0.75),\n",
            " ('COCK',): (('COFFEE',), 1.0),\n",
            " ('MILK',): (('BREAD',), 0.8)}\n"
          ],
          "name": "stdout"
        }
      ]
    }
  ]
}