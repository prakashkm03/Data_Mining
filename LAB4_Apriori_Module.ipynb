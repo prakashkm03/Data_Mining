{
  "nbformat": 4,
  "nbformat_minor": 0,
  "metadata": {
    "colab": {
      "name": "LAB4_Apriori_Module_01Feb19.ipynb",
      "version": "0.3.2",
      "provenance": []
    },
    "kernelspec": {
      "name": "python3",
      "display_name": "Python 3"
    }
  },
  "cells": [
    {
      "cell_type": "code",
      "metadata": {
        "id": "pjGKMsJni3qO",
        "colab_type": "code",
        "colab": {}
      },
      "source": [
        "#Name: Prakash Kumar\n",
        "#Roll: 161210033\n",
        "#Lab 4 : Dated 01/02/19"
      ],
      "execution_count": 0,
      "outputs": []
    },
    {
      "cell_type": "markdown",
      "metadata": {
        "id": "LmPGVwwxhbZ5",
        "colab_type": "text"
      },
      "source": [
        "###Question: Implementation of Apriori algorithm  using module."
      ]
    },
    {
      "cell_type": "code",
      "metadata": {
        "id": "rU1qtucWWW2E",
        "colab_type": "code",
        "outputId": "e7828387-c657-4abc-de40-69187b1e62df",
        "colab": {
          "base_uri": "https://localhost:8080/",
          "height": 34
        }
      },
      "source": [
        "import numpy as np\n",
        "import pandas as pd\n",
        "import csv\n",
        "!pip install apyori\n",
        "from apyori import apriori\n",
        "from pprint import pprint"
      ],
      "execution_count": 0,
      "outputs": [
        {
          "output_type": "stream",
          "text": [
            "Requirement already satisfied: apyori in /usr/local/lib/python3.6/dist-packages (1.1.1)\n"
          ],
          "name": "stdout"
        }
      ]
    },
    {
      "cell_type": "code",
      "metadata": {
        "id": "g_afZpSFXXji",
        "colab_type": "code",
        "outputId": "a22e38e7-3c52-4d31-94a1-dc78183214fe",
        "colab": {
          "base_uri": "https://localhost:8080/",
          "height": 391
        }
      },
      "source": [
        "#Uploading the GroceryStore DataSet from google drive\n",
        "from google.colab import drive\n",
        "drive.mount('/content/gdrive')\n",
        "\n",
        "#Creating the dataframe \n",
        "dataframe = pd.read_csv('/content/gdrive/My Drive/data/GroceryStoreDataSet.csv', sep=',', header=None)\n",
        "dataframe = dataframe[0].map(lambda x: x.split(','))\n",
        "dataframe"
      ],
      "execution_count": 0,
      "outputs": [
        {
          "output_type": "stream",
          "text": [
            "Drive already mounted at /content/gdrive; to attempt to forcibly remount, call drive.mount(\"/content/gdrive\", force_remount=True).\n"
          ],
          "name": "stdout"
        },
        {
          "output_type": "execute_result",
          "data": {
            "text/plain": [
              "0                  [MILK, BREAD, BISCUIT]\n",
              "1      [BREAD, MILK, BISCUIT, CORNFLAKES]\n",
              "2                 [BREAD, TEA, BOURNVITA]\n",
              "3               [JAM, MAGGI, BREAD, MILK]\n",
              "4                   [MAGGI, TEA, BISCUIT]\n",
              "5                 [BREAD, TEA, BOURNVITA]\n",
              "6                [MAGGI, TEA, CORNFLAKES]\n",
              "7            [MAGGI, BREAD, TEA, BISCUIT]\n",
              "8                [JAM, MAGGI, BREAD, TEA]\n",
              "9                           [BREAD, MILK]\n",
              "10    [COFFEE, COCK, BISCUIT, CORNFLAKES]\n",
              "11    [COFFEE, COCK, BISCUIT, CORNFLAKES]\n",
              "12             [COFFEE, SUGER, BOURNVITA]\n",
              "13                  [BREAD, COFFEE, COCK]\n",
              "14                [BREAD, SUGER, BISCUIT]\n",
              "15            [COFFEE, SUGER, CORNFLAKES]\n",
              "16              [BREAD, SUGER, BOURNVITA]\n",
              "17                 [BREAD, COFFEE, SUGER]\n",
              "18                 [BREAD, COFFEE, SUGER]\n",
              "19        [TEA, MILK, COFFEE, CORNFLAKES]\n",
              "Name: 0, dtype: object"
            ]
          },
          "metadata": {
            "tags": []
          },
          "execution_count": 3
        }
      ]
    },
    {
      "cell_type": "code",
      "metadata": {
        "id": "DO2qx1iFXyjX",
        "colab_type": "code",
        "outputId": "3f5d95be-978a-48d8-f662-3bae3b0d6b0d",
        "colab": {
          "base_uri": "https://localhost:8080/",
          "height": 54
        }
      },
      "source": [
        "#Displaying the result with minimum support = 50% and minimum confidence = 60%\n",
        "items = apriori(dataframe.values, min_support=0.5, min_confidence=0.6)  \n",
        "result = list(items)\n",
        "pprint(result)"
      ],
      "execution_count": 0,
      "outputs": [
        {
          "output_type": "stream",
          "text": [
            "[RelationRecord(items=frozenset({'BREAD'}), support=0.65, ordered_statistics=[OrderedStatistic(items_base=frozenset(), items_add=frozenset({'BREAD'}), confidence=0.65, lift=1.0)])]\n"
          ],
          "name": "stdout"
        }
      ]
    }
  ]
}