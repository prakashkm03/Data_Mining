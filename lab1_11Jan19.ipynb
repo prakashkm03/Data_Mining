{
  "nbformat": 4,
  "nbformat_minor": 0,
  "metadata": {
    "colab": {
      "name": "lab1_11Jan19.ipynb",
      "version": "0.3.2",
      "provenance": []
    },
    "kernelspec": {
      "name": "python3",
      "display_name": "Python 3"
    }
  },
  "cells": [
    {
      "cell_type": "code",
      "metadata": {
        "id": "_fYbRkpzWtpa",
        "colab_type": "code",
        "colab": {}
      },
      "source": [
        "#Name: Prakash Kumar\n",
        "#Roll: 161210033\n",
        "#lab 1 : Dated 11/01/19"
      ],
      "execution_count": 0,
      "outputs": []
    },
    {
      "cell_type": "markdown",
      "metadata": {
        "id": "LWlJRioZ6Ci1",
        "colab_type": "text"
      },
      "source": [
        "###Question:  You have the results of various bee species. The number of bees observed was as follows:\n",
        "\n",
        "####BuffTail: 10 1 37 5 12\n",
        "\n",
        "#### Garden bee: 8 3 19 6 4\n",
        "\n",
        "####Red tail: 18 9 1 2 4\n",
        "\n",
        "####Honeybee: 12 13 16 9 10\n",
        "\n",
        "####Carder bee: 8 27 6 32 23"
      ]
    },
    {
      "cell_type": "code",
      "metadata": {
        "id": "0xmX5GTf5mkJ",
        "colab_type": "code",
        "colab": {}
      },
      "source": [
        "# We are importing pandas library to create DataFrame.\n",
        "import pandas as pd\n",
        "import numpy as np"
      ],
      "execution_count": 0,
      "outputs": []
    },
    {
      "cell_type": "markdown",
      "metadata": {
        "id": "TuvVmoe768oI",
        "colab_type": "text"
      },
      "source": [
        "####a) Make simple numeric vector. Join the bee vectors together to make a data frame.\n",
        "\n",
        "####Each row of the resulting data frame relates to a specific plant so you could assign names to the rows.\n",
        "\n",
        "####The plant names are Thistle, Vipers Bugloss, Golden Rain, Yellow Alfalfa, and blackberry."
      ]
    },
    {
      "cell_type": "code",
      "metadata": {
        "id": "5aed_tba6z7I",
        "colab_type": "code",
        "colab": {}
      },
      "source": [
        "# We are creating the five columns of bees species as lists\n",
        "data= {\n",
        "    'BuffTail'   : [10,1,37,5,12],\n",
        "    'Garden bee' : [8, 3, 19, 6, 4],\n",
        "    'Red tail'   : [18, 9, 1, 2, 4],\n",
        "    'Honeybee'   : [12, 13, 16, 9, 10],\n",
        "    'Carder bee' : [8, 27, 6, 32, 23]    \n",
        "}"
      ],
      "execution_count": 0,
      "outputs": []
    },
    {
      "cell_type": "code",
      "metadata": {
        "id": "R118qYeZ7zcG",
        "colab_type": "code",
        "outputId": "41998431-253c-4f43-baf6-015bf945cc03",
        "colab": {
          "base_uri": "https://localhost:8080/",
          "height": 204
        }
      },
      "source": [
        "#Making dataframe df1 using dict \n",
        "df1=pd.DataFrame(data,index=['Thistle','Vipers Bugloss','Golden Rain','Yellow Alfalfa','blackberry'],\n",
        "                columns=['BuffTail','Garden bee','Red tail','Honeybee','Carder bee'])\n",
        "df1"
      ],
      "execution_count": 0,
      "outputs": [
        {
          "output_type": "execute_result",
          "data": {
            "text/html": [
              "<div>\n",
              "<style scoped>\n",
              "    .dataframe tbody tr th:only-of-type {\n",
              "        vertical-align: middle;\n",
              "    }\n",
              "\n",
              "    .dataframe tbody tr th {\n",
              "        vertical-align: top;\n",
              "    }\n",
              "\n",
              "    .dataframe thead th {\n",
              "        text-align: right;\n",
              "    }\n",
              "</style>\n",
              "<table border=\"1\" class=\"dataframe\">\n",
              "  <thead>\n",
              "    <tr style=\"text-align: right;\">\n",
              "      <th></th>\n",
              "      <th>BuffTail</th>\n",
              "      <th>Garden bee</th>\n",
              "      <th>Red tail</th>\n",
              "      <th>Honeybee</th>\n",
              "      <th>Carder bee</th>\n",
              "    </tr>\n",
              "  </thead>\n",
              "  <tbody>\n",
              "    <tr>\n",
              "      <th>Thistle</th>\n",
              "      <td>10</td>\n",
              "      <td>8</td>\n",
              "      <td>18</td>\n",
              "      <td>12</td>\n",
              "      <td>8</td>\n",
              "    </tr>\n",
              "    <tr>\n",
              "      <th>Vipers Bugloss</th>\n",
              "      <td>1</td>\n",
              "      <td>3</td>\n",
              "      <td>9</td>\n",
              "      <td>13</td>\n",
              "      <td>27</td>\n",
              "    </tr>\n",
              "    <tr>\n",
              "      <th>Golden Rain</th>\n",
              "      <td>37</td>\n",
              "      <td>19</td>\n",
              "      <td>1</td>\n",
              "      <td>16</td>\n",
              "      <td>6</td>\n",
              "    </tr>\n",
              "    <tr>\n",
              "      <th>Yellow Alfalfa</th>\n",
              "      <td>5</td>\n",
              "      <td>6</td>\n",
              "      <td>2</td>\n",
              "      <td>9</td>\n",
              "      <td>32</td>\n",
              "    </tr>\n",
              "    <tr>\n",
              "      <th>blackberry</th>\n",
              "      <td>12</td>\n",
              "      <td>4</td>\n",
              "      <td>4</td>\n",
              "      <td>10</td>\n",
              "      <td>23</td>\n",
              "    </tr>\n",
              "  </tbody>\n",
              "</table>\n",
              "</div>"
            ],
            "text/plain": [
              "                BuffTail  Garden bee  Red tail  Honeybee  Carder bee\n",
              "Thistle               10           8        18        12           8\n",
              "Vipers Bugloss         1           3         9        13          27\n",
              "Golden Rain           37          19         1        16           6\n",
              "Yellow Alfalfa         5           6         2         9          32\n",
              "blackberry            12           4         4        10          23"
            ]
          },
          "metadata": {
            "tags": []
          },
          "execution_count": 3
        }
      ]
    },
    {
      "cell_type": "markdown",
      "metadata": {
        "id": "Tn25-vgWEXBU",
        "colab_type": "text"
      },
      "source": [
        " #### b) Make the matrix object from the original data."
      ]
    },
    {
      "cell_type": "code",
      "metadata": {
        "id": "sYK2Z0SDEfzz",
        "colab_type": "code",
        "outputId": "7b196cd9-3e6f-4fed-e5fd-3a642d888195",
        "colab": {
          "base_uri": "https://localhost:8080/",
          "height": 102
        }
      },
      "source": [
        "# Making matrix using numpy \n",
        "matrix=df1.values\n",
        "print(matrix)"
      ],
      "execution_count": 0,
      "outputs": [
        {
          "output_type": "stream",
          "text": [
            "[[10  8 18 12  8]\n",
            " [ 1  3  9 13 27]\n",
            " [37 19  1 16  6]\n",
            " [ 5  6  2  9 32]\n",
            " [12  4  4 10 23]]\n"
          ],
          "name": "stdout"
        }
      ]
    },
    {
      "cell_type": "markdown",
      "metadata": {
        "id": "qpPQK_cmFESK",
        "colab_type": "text"
      },
      "source": [
        "####  c) Display the data for the Blackberry only."
      ]
    },
    {
      "cell_type": "code",
      "metadata": {
        "id": "kutbBzOAFMzJ",
        "colab_type": "code",
        "outputId": "9a3c96d2-3a5f-41e4-ebc1-5f127bae8d3a",
        "colab": {
          "base_uri": "https://localhost:8080/",
          "height": 80
        }
      },
      "source": [
        "#Passing blackberry column\n",
        "df1.loc[[\"blackberry\"]]\n"
      ],
      "execution_count": 0,
      "outputs": [
        {
          "output_type": "execute_result",
          "data": {
            "text/html": [
              "<div>\n",
              "<style scoped>\n",
              "    .dataframe tbody tr th:only-of-type {\n",
              "        vertical-align: middle;\n",
              "    }\n",
              "\n",
              "    .dataframe tbody tr th {\n",
              "        vertical-align: top;\n",
              "    }\n",
              "\n",
              "    .dataframe thead th {\n",
              "        text-align: right;\n",
              "    }\n",
              "</style>\n",
              "<table border=\"1\" class=\"dataframe\">\n",
              "  <thead>\n",
              "    <tr style=\"text-align: right;\">\n",
              "      <th></th>\n",
              "      <th>BuffTail</th>\n",
              "      <th>Garden bee</th>\n",
              "      <th>Red tail</th>\n",
              "      <th>Honeybee</th>\n",
              "      <th>Carder bee</th>\n",
              "    </tr>\n",
              "  </thead>\n",
              "  <tbody>\n",
              "    <tr>\n",
              "      <th>blackberry</th>\n",
              "      <td>12</td>\n",
              "      <td>4</td>\n",
              "      <td>4</td>\n",
              "      <td>10</td>\n",
              "      <td>23</td>\n",
              "    </tr>\n",
              "  </tbody>\n",
              "</table>\n",
              "</div>"
            ],
            "text/plain": [
              "            BuffTail  Garden bee  Red tail  Honeybee  Carder bee\n",
              "blackberry        12           4         4        10          23"
            ]
          },
          "metadata": {
            "tags": []
          },
          "execution_count": 5
        }
      ]
    },
    {
      "cell_type": "markdown",
      "metadata": {
        "id": "pTzrhJ8JS1TN",
        "colab_type": "text"
      },
      "source": [
        "####d) Display the data for Golden rain and yellow alfalfa."
      ]
    },
    {
      "cell_type": "code",
      "metadata": {
        "id": "DHjOfG4KSzpu",
        "colab_type": "code",
        "outputId": "5437e226-8d09-4b02-eea5-fb4c854ea275",
        "colab": {
          "base_uri": "https://localhost:8080/",
          "height": 111
        }
      },
      "source": [
        "#Passing Golden Rain and Yellow Afalfa columns\n",
        "df1.loc[[\"Golden Rain\",\"Yellow Alfalfa\"]]"
      ],
      "execution_count": 0,
      "outputs": [
        {
          "output_type": "execute_result",
          "data": {
            "text/html": [
              "<div>\n",
              "<style scoped>\n",
              "    .dataframe tbody tr th:only-of-type {\n",
              "        vertical-align: middle;\n",
              "    }\n",
              "\n",
              "    .dataframe tbody tr th {\n",
              "        vertical-align: top;\n",
              "    }\n",
              "\n",
              "    .dataframe thead th {\n",
              "        text-align: right;\n",
              "    }\n",
              "</style>\n",
              "<table border=\"1\" class=\"dataframe\">\n",
              "  <thead>\n",
              "    <tr style=\"text-align: right;\">\n",
              "      <th></th>\n",
              "      <th>BuffTail</th>\n",
              "      <th>Garden bee</th>\n",
              "      <th>Red tail</th>\n",
              "      <th>Honeybee</th>\n",
              "      <th>Carder bee</th>\n",
              "    </tr>\n",
              "  </thead>\n",
              "  <tbody>\n",
              "    <tr>\n",
              "      <th>Golden Rain</th>\n",
              "      <td>37</td>\n",
              "      <td>19</td>\n",
              "      <td>1</td>\n",
              "      <td>16</td>\n",
              "      <td>6</td>\n",
              "    </tr>\n",
              "    <tr>\n",
              "      <th>Yellow Alfalfa</th>\n",
              "      <td>5</td>\n",
              "      <td>6</td>\n",
              "      <td>2</td>\n",
              "      <td>9</td>\n",
              "      <td>32</td>\n",
              "    </tr>\n",
              "  </tbody>\n",
              "</table>\n",
              "</div>"
            ],
            "text/plain": [
              "                BuffTail  Garden bee  Red tail  Honeybee  Carder bee\n",
              "Golden Rain           37          19         1        16           6\n",
              "Yellow Alfalfa         5           6         2         9          32"
            ]
          },
          "metadata": {
            "tags": []
          },
          "execution_count": 6
        }
      ]
    },
    {
      "cell_type": "markdown",
      "metadata": {
        "id": "N2WxYTr9TVQV",
        "colab_type": "text"
      },
      "source": [
        "\n",
        "#### e) Display the data for the red tail bee only."
      ]
    },
    {
      "cell_type": "code",
      "metadata": {
        "id": "Ki7dPiolTbjr",
        "colab_type": "code",
        "outputId": "a7f2e148-8c71-4dfe-e89d-08ba3886893b",
        "colab": {
          "base_uri": "https://localhost:8080/",
          "height": 119
        }
      },
      "source": [
        "#Passing Red tail column\n",
        "df1[\"Red tail\"]"
      ],
      "execution_count": 0,
      "outputs": [
        {
          "output_type": "execute_result",
          "data": {
            "text/plain": [
              "Thistle           18\n",
              "Vipers Bugloss     9\n",
              "Golden Rain        1\n",
              "Yellow Alfalfa     2\n",
              "blackberry         4\n",
              "Name: Red tail, dtype: int64"
            ]
          },
          "metadata": {
            "tags": []
          },
          "execution_count": 7
        }
      ]
    },
    {
      "cell_type": "markdown",
      "metadata": {
        "id": "FNZENTn5TwWk",
        "colab_type": "text"
      },
      "source": [
        "\n",
        "####f) Reorder the data so that the bufftail column is sorted in decreasing abundance."
      ]
    },
    {
      "cell_type": "code",
      "metadata": {
        "id": "sRXXyM0XT2Ur",
        "colab_type": "code",
        "outputId": "3b4fccd6-8a14-44da-9d3b-e2e1b910c822",
        "colab": {
          "base_uri": "https://localhost:8080/",
          "height": 119
        }
      },
      "source": [
        "#Using sort_values function and pass column Bufftail as argument\n",
        "#And taking ascending order as false.\n",
        "print(df1.sort_values(by='BuffTail',ascending=False))"
      ],
      "execution_count": 0,
      "outputs": [
        {
          "output_type": "stream",
          "text": [
            "                BuffTail  Garden bee  Red tail  Honeybee  Carder bee\n",
            "Golden Rain           37          19         1        16           6\n",
            "blackberry            12           4         4        10          23\n",
            "Thistle               10           8        18        12           8\n",
            "Yellow Alfalfa         5           6         2         9          32\n",
            "Vipers Bugloss         1           3         9        13          27\n"
          ],
          "name": "stdout"
        }
      ]
    }
  ]
}