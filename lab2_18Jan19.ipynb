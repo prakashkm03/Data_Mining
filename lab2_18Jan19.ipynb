{
  "nbformat": 4,
  "nbformat_minor": 0,
  "metadata": {
    "colab": {
      "name": "lab2_18Jan19.ipynb",
      "version": "0.3.2",
      "provenance": []
    },
    "kernelspec": {
      "name": "python3",
      "display_name": "Python 3"
    }
  },
  "cells": [
    {
      "cell_type": "markdown",
      "metadata": {
        "id": "IxltK7fbcyrO",
        "colab_type": "text"
      },
      "source": [
        "###Prakash Kumar\n",
        "###161210033\n",
        "###Lab 2 Dated: 18/01/19"
      ]
    },
    {
      "cell_type": "markdown",
      "metadata": {
        "id": "_5ndux3lQP2t",
        "colab_type": "text"
      },
      "source": [
        "### Q1. Create a data item sample:"
      ]
    },
    {
      "cell_type": "code",
      "metadata": {
        "id": "ps4-EpFhKiJP",
        "colab_type": "code",
        "colab": {}
      },
      "source": [
        "import numpy as np\n",
        "a=np.array([2,4,7,1,9])"
      ],
      "execution_count": 0,
      "outputs": []
    },
    {
      "cell_type": "code",
      "metadata": {
        "id": "Ukp5iISDOHo7",
        "colab_type": "code",
        "outputId": "d5b32301-eb67-4952-da87-0370ae3b68cd",
        "colab": {
          "base_uri": "https://localhost:8080/",
          "height": 51
        }
      },
      "source": [
        "print(\"Array taken is :\")\n",
        "print(a)"
      ],
      "execution_count": 0,
      "outputs": [
        {
          "output_type": "stream",
          "text": [
            "Array taken is :\n",
            "[2 4 7 1 9]\n"
          ],
          "name": "stdout"
        }
      ]
    },
    {
      "cell_type": "markdown",
      "metadata": {
        "id": "qZkxsJ9fQzIP",
        "colab_type": "text"
      },
      "source": [
        "####a) Determine the largest value in the sample."
      ]
    },
    {
      "cell_type": "code",
      "metadata": {
        "id": "T5ss5aZ4Pl0H",
        "colab_type": "code",
        "outputId": "3fd1c6e7-4651-4070-da9b-8ff168f7df71",
        "colab": {
          "base_uri": "https://localhost:8080/",
          "height": 34
        }
      },
      "source": [
        "#numpy.max() returns the maximum element of data sample\n",
        "print(np.max(a))"
      ],
      "execution_count": 0,
      "outputs": [
        {
          "output_type": "stream",
          "text": [
            "9\n"
          ],
          "name": "stdout"
        }
      ]
    },
    {
      "cell_type": "markdown",
      "metadata": {
        "id": "bQ82O7o-Q6_2",
        "colab_type": "text"
      },
      "source": [
        "####b) Determine the smallest value in the sample."
      ]
    },
    {
      "cell_type": "code",
      "metadata": {
        "id": "OWiDqaiRPure",
        "colab_type": "code",
        "outputId": "553df16c-1518-43fe-aab7-c6deec21d0d5",
        "colab": {
          "base_uri": "https://localhost:8080/",
          "height": 34
        }
      },
      "source": [
        "#numpy.min() returns the minimum element of data sample\n",
        "print(np.min(a))"
      ],
      "execution_count": 0,
      "outputs": [
        {
          "output_type": "stream",
          "text": [
            "1\n"
          ],
          "name": "stdout"
        }
      ]
    },
    {
      "cell_type": "markdown",
      "metadata": {
        "id": "5V5Y3DTYRBit",
        "colab_type": "text"
      },
      "source": [
        "####c) List out how many items are in the sample."
      ]
    },
    {
      "cell_type": "code",
      "metadata": {
        "id": "qzlm0HZgRVdB",
        "colab_type": "code",
        "outputId": "f63826f8-8231-48f1-a667-4c345fd0a990",
        "colab": {
          "base_uri": "https://localhost:8080/",
          "height": 34
        }
      },
      "source": [
        "#array_name.size() returns the no. of eleemts in array\n",
        "print(a.size)"
      ],
      "execution_count": 0,
      "outputs": [
        {
          "output_type": "stream",
          "text": [
            "5\n"
          ],
          "name": "stdout"
        }
      ]
    },
    {
      "cell_type": "markdown",
      "metadata": {
        "id": "5nd70eSrRJC1",
        "colab_type": "text"
      },
      "source": [
        "####d) Display the average of the sample."
      ]
    },
    {
      "cell_type": "code",
      "metadata": {
        "id": "tzPEe3MPQD6s",
        "colab_type": "code",
        "outputId": "9415d140-6ade-45d9-d0ca-1e8ce71fe752",
        "colab": {
          "base_uri": "https://localhost:8080/",
          "height": 34
        }
      },
      "source": [
        "#numpy.mean() returns average of data sample\n",
        "print(np.mean(a))"
      ],
      "execution_count": 0,
      "outputs": [
        {
          "output_type": "stream",
          "text": [
            "4.6\n"
          ],
          "name": "stdout"
        }
      ]
    },
    {
      "cell_type": "markdown",
      "metadata": {
        "id": "c9V7sIxIR1Wf",
        "colab_type": "text"
      },
      "source": [
        "####e) Work out the standard deviation of the sample."
      ]
    },
    {
      "cell_type": "code",
      "metadata": {
        "id": "Riku8bEDR0Xi",
        "colab_type": "code",
        "outputId": "a09e8d92-b7d4-4f43-8b59-c00983b4a4c1",
        "colab": {
          "base_uri": "https://localhost:8080/",
          "height": 34
        }
      },
      "source": [
        "#numpy.std() returns standard deviation of data sample\n",
        "print(np.std(a))"
      ],
      "execution_count": 0,
      "outputs": [
        {
          "output_type": "stream",
          "text": [
            "3.006659275674582\n"
          ],
          "name": "stdout"
        }
      ]
    },
    {
      "cell_type": "markdown",
      "metadata": {
        "id": "xhU-maK3SVlW",
        "colab_type": "text"
      },
      "source": [
        "###Q2. Suppose a={(1,1,3),(5,2,6),(-2,-1,-3)}"
      ]
    },
    {
      "cell_type": "code",
      "metadata": {
        "id": "KK6GnnnVShGI",
        "colab_type": "code",
        "outputId": "9d406d9c-f3a8-4aaf-cc05-a1905a938fed",
        "colab": {
          "base_uri": "https://localhost:8080/",
          "height": 68
        }
      },
      "source": [
        "#numpy.array() is used to create array\n",
        "a = np.array([[1, 1, 3], [5, 2, 6], [-2, -1, -3]])\n",
        "print(a)"
      ],
      "execution_count": 0,
      "outputs": [
        {
          "output_type": "stream",
          "text": [
            "[[ 1  1  3]\n",
            " [ 5  2  6]\n",
            " [-2 -1 -3]]\n"
          ],
          "name": "stdout"
        }
      ]
    },
    {
      "cell_type": "markdown",
      "metadata": {
        "id": "5oOvCS5bSl6K",
        "colab_type": "text"
      },
      "source": [
        "####a) check that a^3(a pow 3)=0 where 0 is a 3*3 matrix with every entry equal to 0"
      ]
    },
    {
      "cell_type": "code",
      "metadata": {
        "id": "QfIMpQ3MSo4n",
        "colab_type": "code",
        "outputId": "f9ebed46-480b-423b-9fb3-37912c4dcb04",
        "colab": {
          "base_uri": "https://localhost:8080/",
          "height": 34
        }
      },
      "source": [
        "#numpy.linalg.matrix_power(M,n) is used to raise a square matrix to the (integer) power n.\n",
        "b=np.linalg.matrix_power(a, 3)\n",
        "\n",
        "#Creating 3*3 zero matrix\n",
        "c = np.zeros([3, 3]) \n",
        "\n",
        "#numpy.array_equal(a1, a2) returns True if two arrays have the same shape and elements, False otherwise.\n",
        "if (np.array_equal(b,c)):\n",
        "  print(\"Yes!!! a^3(a pow 3)=0\")\n",
        "else:\n",
        "  print(\"No!!! a^3(a pow 3)!=0\")"
      ],
      "execution_count": 0,
      "outputs": [
        {
          "output_type": "stream",
          "text": [
            "Yes!!! a^3(a pow 3)=0\n"
          ],
          "name": "stdout"
        }
      ]
    },
    {
      "cell_type": "markdown",
      "metadata": {
        "id": "WsoBCW5oVIho",
        "colab_type": "text"
      },
      "source": [
        "####b) replace the 3rd column of a by the sum of the 2nd and 3rd column."
      ]
    },
    {
      "cell_type": "code",
      "metadata": {
        "id": "Og-qhmqnVMnz",
        "colab_type": "code",
        "outputId": "65481348-ab54-41d6-d942-36dd56181ad8",
        "colab": {
          "base_uri": "https://localhost:8080/",
          "height": 68
        }
      },
      "source": [
        "#a[x:y] returns the element of a in the x row, y column.\n",
        "a[:,2] = a[:,1] + a[:,2]\n",
        "print(a)"
      ],
      "execution_count": 0,
      "outputs": [
        {
          "output_type": "stream",
          "text": [
            "[[ 1  1  4]\n",
            " [ 5  2  8]\n",
            " [-2 -1 -4]]\n"
          ],
          "name": "stdout"
        }
      ]
    },
    {
      "cell_type": "markdown",
      "metadata": {
        "id": "EvbKk2Q0YLx_",
        "colab_type": "text"
      },
      "source": [
        "###Q3.Create the following pattern matrix : \n",
        "#### {(0,1,2,3,4),(1,2,3,4,5),(2,3,4,5,6),(3,4,5,6,7),(4,5,6,7,8)}"
      ]
    },
    {
      "cell_type": "code",
      "metadata": {
        "id": "y1G82rLmYacT",
        "colab_type": "code",
        "outputId": "c895e323-d7aa-4187-f5a5-c96c0f507741",
        "colab": {
          "base_uri": "https://localhost:8080/",
          "height": 85
        }
      },
      "source": [
        "# range() returns a sequence of numbers, starting from 0 by default, \n",
        "# and increments by 1 (by default), and ends at a specified number\n",
        "np.array([[int(i) for i in range(k, k+5)] for k in range(4)])"
      ],
      "execution_count": 0,
      "outputs": [
        {
          "output_type": "execute_result",
          "data": {
            "text/plain": [
              "array([[0, 1, 2, 3, 4],\n",
              "       [1, 2, 3, 4, 5],\n",
              "       [2, 3, 4, 5, 6],\n",
              "       [3, 4, 5, 6, 7]])"
            ]
          },
          "metadata": {
            "tags": []
          },
          "execution_count": 141
        }
      ]
    }
  ]
}