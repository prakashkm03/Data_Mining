{
  "nbformat": 4,
  "nbformat_minor": 0,
  "metadata": {
    "colab": {
      "name": "lab3_25Jan19.ipynb",
      "version": "0.3.2",
      "provenance": []
    },
    "kernelspec": {
      "name": "python3",
      "display_name": "Python 3"
    }
  },
  "cells": [
    {
      "cell_type": "markdown",
      "metadata": {
        "id": "BkG7luC3UHk-",
        "colab_type": "text"
      },
      "source": [
        "###Q1.Create a pandas data structure 'Series' with data=[100,200,300,400,500] and index=['tom','bob','nancy','dan','eric']"
      ]
    },
    {
      "cell_type": "code",
      "metadata": {
        "id": "X96HrOnWMbQu",
        "colab_type": "code",
        "colab": {}
      },
      "source": [
        "import pandas as pd\n",
        "import numpy as np"
      ],
      "execution_count": 0,
      "outputs": []
    },
    {
      "cell_type": "code",
      "metadata": {
        "id": "Ms1xgNNSUf_l",
        "colab_type": "code",
        "outputId": "70e5d2b9-2d2a-4566-d0ae-e2af25c76bf4",
        "colab": {
          "base_uri": "https://localhost:8080/",
          "height": 119
        }
      },
      "source": [
        "series = pd.Series([100,200,300,400,500],\n",
        "                   index = ['tom','bob','nancy','dan','eric'])\n",
        "series"
      ],
      "execution_count": 0,
      "outputs": [
        {
          "output_type": "execute_result",
          "data": {
            "text/plain": [
              "tom      100\n",
              "bob      200\n",
              "nancy    300\n",
              "dan      400\n",
              "eric     500\n",
              "dtype: int64"
            ]
          },
          "metadata": {
            "tags": []
          },
          "execution_count": 2
        }
      ]
    },
    {
      "cell_type": "markdown",
      "metadata": {
        "id": "Wyp1uNmFUfYD",
        "colab_type": "text"
      },
      "source": [
        "####a) Change data at index 2 by 'foo'. Print Series."
      ]
    },
    {
      "cell_type": "code",
      "metadata": {
        "id": "3HX1h13gPRfX",
        "colab_type": "code",
        "outputId": "630a3cc2-ac4c-4b4c-b7a0-71abb1d98c37",
        "colab": {
          "base_uri": "https://localhost:8080/",
          "height": 119
        }
      },
      "source": [
        "series['nancy'] = 'foo'\n",
        "series"
      ],
      "execution_count": 0,
      "outputs": [
        {
          "output_type": "execute_result",
          "data": {
            "text/plain": [
              "tom      100\n",
              "bob      200\n",
              "nancy    foo\n",
              "dan      400\n",
              "eric     500\n",
              "dtype: object"
            ]
          },
          "metadata": {
            "tags": []
          },
          "execution_count": 3
        }
      ]
    },
    {
      "cell_type": "markdown",
      "metadata": {
        "id": "TFcD9cAIVYGO",
        "colab_type": "text"
      },
      "source": [
        "####b) Print data corresponding to index ‘nancy’, ‘tom’, ‘eric’ in a single statement."
      ]
    },
    {
      "cell_type": "code",
      "metadata": {
        "id": "yirJ4GssPuyn",
        "colab_type": "code",
        "outputId": "c9bbfdb5-0ff8-4d31-e877-8cd2a4d22dd4",
        "colab": {
          "base_uri": "https://localhost:8080/",
          "height": 85
        }
      },
      "source": [
        "print(series[['nancy','tom','eric']])"
      ],
      "execution_count": 0,
      "outputs": [
        {
          "output_type": "stream",
          "text": [
            "nancy    foo\n",
            "tom      100\n",
            "eric     500\n",
            "dtype: object\n"
          ],
          "name": "stdout"
        }
      ]
    },
    {
      "cell_type": "markdown",
      "metadata": {
        "id": "F_JhkSSkVsV8",
        "colab_type": "text"
      },
      "source": [
        "####c) Multiply series data by 2 and print result."
      ]
    },
    {
      "cell_type": "code",
      "metadata": {
        "id": "rofZp3y1QIf9",
        "colab_type": "code",
        "outputId": "ae302d62-c66b-467e-d7c1-44981a7ab4ca",
        "colab": {
          "base_uri": "https://localhost:8080/",
          "height": 119
        }
      },
      "source": [
        "series.multiply(2)"
      ],
      "execution_count": 0,
      "outputs": [
        {
          "output_type": "execute_result",
          "data": {
            "text/plain": [
              "tom         200\n",
              "bob         400\n",
              "nancy    foofoo\n",
              "dan         800\n",
              "eric       1000\n",
              "dtype: object"
            ]
          },
          "metadata": {
            "tags": []
          },
          "execution_count": 5
        }
      ]
    },
    {
      "cell_type": "markdown",
      "metadata": {
        "id": "h2Ll3UkFV6tP",
        "colab_type": "text"
      },
      "source": [
        "####d) Power series data by 2 corresponding to index value ‘tom’ and ‘dan’."
      ]
    },
    {
      "cell_type": "code",
      "metadata": {
        "id": "jlH6fL5rQsaU",
        "colab_type": "code",
        "outputId": "cabaf963-d2b8-463e-b65b-7408e8b23525",
        "colab": {
          "base_uri": "https://localhost:8080/",
          "height": 68
        }
      },
      "source": [
        "series[['tom','dan']].pow(2)"
      ],
      "execution_count": 0,
      "outputs": [
        {
          "output_type": "execute_result",
          "data": {
            "text/plain": [
              "tom     10000\n",
              "dan    160000\n",
              "dtype: object"
            ]
          },
          "metadata": {
            "tags": []
          },
          "execution_count": 6
        }
      ]
    },
    {
      "cell_type": "markdown",
      "metadata": {
        "id": "bPq2R5NWWQHk",
        "colab_type": "text"
      },
      "source": [
        "###Q2. Create a dictionary ‘d’ having key-value pair as-\n",
        "\n",
        "####One: Series(data= [100,300,600], index=[‘apple’ , ’ball’ , ’clock’]\n",
        "\n",
        "####Two: Series(data=[111,333,666], index=[‘apple’, ‘ball’, ‘bat’]"
      ]
    },
    {
      "cell_type": "markdown",
      "metadata": {
        "id": "KE0FX-o6Wi90",
        "colab_type": "text"
      },
      "source": [
        "####A) Create a data frame ‘df’ using above dictionary ‘d’."
      ]
    },
    {
      "cell_type": "code",
      "metadata": {
        "id": "DkbbnLOUSsbv",
        "colab_type": "code",
        "outputId": "57907225-7a46-4f71-a83f-20fb6744969f",
        "colab": {
          "base_uri": "https://localhost:8080/",
          "height": 173
        }
      },
      "source": [
        "one = pd.Series(data=[100, 300, 600],\n",
        "               index=['apple', 'ball', 'clock'])\n",
        "two = pd.Series(data=[111, 333, 666],\n",
        "               index=['apple', 'ball', 'bat'])\n",
        "\n",
        "d = {'one': one, 'two': two}\n",
        "\n",
        "df = pd.DataFrame(d)\n",
        "df"
      ],
      "execution_count": 0,
      "outputs": [
        {
          "output_type": "execute_result",
          "data": {
            "text/html": [
              "<div>\n",
              "<style scoped>\n",
              "    .dataframe tbody tr th:only-of-type {\n",
              "        vertical-align: middle;\n",
              "    }\n",
              "\n",
              "    .dataframe tbody tr th {\n",
              "        vertical-align: top;\n",
              "    }\n",
              "\n",
              "    .dataframe thead th {\n",
              "        text-align: right;\n",
              "    }\n",
              "</style>\n",
              "<table border=\"1\" class=\"dataframe\">\n",
              "  <thead>\n",
              "    <tr style=\"text-align: right;\">\n",
              "      <th></th>\n",
              "      <th>one</th>\n",
              "      <th>two</th>\n",
              "    </tr>\n",
              "  </thead>\n",
              "  <tbody>\n",
              "    <tr>\n",
              "      <th>apple</th>\n",
              "      <td>100.0</td>\n",
              "      <td>111.0</td>\n",
              "    </tr>\n",
              "    <tr>\n",
              "      <th>ball</th>\n",
              "      <td>300.0</td>\n",
              "      <td>333.0</td>\n",
              "    </tr>\n",
              "    <tr>\n",
              "      <th>bat</th>\n",
              "      <td>NaN</td>\n",
              "      <td>666.0</td>\n",
              "    </tr>\n",
              "    <tr>\n",
              "      <th>clock</th>\n",
              "      <td>600.0</td>\n",
              "      <td>NaN</td>\n",
              "    </tr>\n",
              "  </tbody>\n",
              "</table>\n",
              "</div>"
            ],
            "text/plain": [
              "         one    two\n",
              "apple  100.0  111.0\n",
              "ball   300.0  333.0\n",
              "bat      NaN  666.0\n",
              "clock  600.0    NaN"
            ]
          },
          "metadata": {
            "tags": []
          },
          "execution_count": 7
        }
      ]
    },
    {
      "cell_type": "markdown",
      "metadata": {
        "id": "QShCdD4xW6NM",
        "colab_type": "text"
      },
      "source": [
        "\n",
        "\n",
        "####B) Create another data frame df1 using ‘d’ having index = [‘bat’, ‘ball’, ‘apple’] and columns = [‘two’, ‘one’]"
      ]
    },
    {
      "cell_type": "code",
      "metadata": {
        "id": "T_qjVEuZV3VK",
        "colab_type": "code",
        "outputId": "a1f124c0-a534-4269-de68-8981cd7d3765",
        "colab": {
          "base_uri": "https://localhost:8080/",
          "height": 85
        }
      },
      "source": [
        "df1 = pd.DataFrame(d,index=['bat', 'ball', 'apple'],\n",
        "                     columns=['two', 'one'])\n",
        "print(df1)"
      ],
      "execution_count": 0,
      "outputs": [
        {
          "output_type": "stream",
          "text": [
            "       two    one\n",
            "bat    666    NaN\n",
            "ball   333  300.0\n",
            "apple  111  100.0\n"
          ],
          "name": "stdout"
        }
      ]
    },
    {
      "cell_type": "markdown",
      "metadata": {
        "id": "c48j8X3QXHpJ",
        "colab_type": "text"
      },
      "source": [
        "####C) Print the column one data in ‘df’."
      ]
    },
    {
      "cell_type": "code",
      "metadata": {
        "id": "K1slVl3YUaZl",
        "colab_type": "code",
        "outputId": "7951ae7b-30cd-4936-bf32-1c09ae5bae6e",
        "colab": {
          "base_uri": "https://localhost:8080/",
          "height": 102
        }
      },
      "source": [
        "df['one']"
      ],
      "execution_count": 0,
      "outputs": [
        {
          "output_type": "execute_result",
          "data": {
            "text/plain": [
              "apple    100.0\n",
              "ball     300.0\n",
              "bat        NaN\n",
              "clock    600.0\n",
              "Name: one, dtype: float64"
            ]
          },
          "metadata": {
            "tags": []
          },
          "execution_count": 9
        }
      ]
    },
    {
      "cell_type": "markdown",
      "metadata": {
        "id": "kQYxonUCXZES",
        "colab_type": "text"
      },
      "source": [
        "####D) Insert a column named ‘three’ having values as sum of column ‘one’ and ‘two’."
      ]
    },
    {
      "cell_type": "code",
      "metadata": {
        "id": "g5V5RmyVTACg",
        "colab_type": "code",
        "outputId": "8fc3a028-fbb9-461b-ab74-0d76f88bb9cd",
        "colab": {
          "base_uri": "https://localhost:8080/",
          "height": 173
        }
      },
      "source": [
        "df['three'] = df['one'] + df['two']\n",
        "df"
      ],
      "execution_count": 0,
      "outputs": [
        {
          "output_type": "execute_result",
          "data": {
            "text/html": [
              "<div>\n",
              "<style scoped>\n",
              "    .dataframe tbody tr th:only-of-type {\n",
              "        vertical-align: middle;\n",
              "    }\n",
              "\n",
              "    .dataframe tbody tr th {\n",
              "        vertical-align: top;\n",
              "    }\n",
              "\n",
              "    .dataframe thead th {\n",
              "        text-align: right;\n",
              "    }\n",
              "</style>\n",
              "<table border=\"1\" class=\"dataframe\">\n",
              "  <thead>\n",
              "    <tr style=\"text-align: right;\">\n",
              "      <th></th>\n",
              "      <th>one</th>\n",
              "      <th>two</th>\n",
              "      <th>three</th>\n",
              "    </tr>\n",
              "  </thead>\n",
              "  <tbody>\n",
              "    <tr>\n",
              "      <th>apple</th>\n",
              "      <td>100.0</td>\n",
              "      <td>111.0</td>\n",
              "      <td>211.0</td>\n",
              "    </tr>\n",
              "    <tr>\n",
              "      <th>ball</th>\n",
              "      <td>300.0</td>\n",
              "      <td>333.0</td>\n",
              "      <td>633.0</td>\n",
              "    </tr>\n",
              "    <tr>\n",
              "      <th>bat</th>\n",
              "      <td>NaN</td>\n",
              "      <td>666.0</td>\n",
              "      <td>NaN</td>\n",
              "    </tr>\n",
              "    <tr>\n",
              "      <th>clock</th>\n",
              "      <td>600.0</td>\n",
              "      <td>NaN</td>\n",
              "      <td>NaN</td>\n",
              "    </tr>\n",
              "  </tbody>\n",
              "</table>\n",
              "</div>"
            ],
            "text/plain": [
              "         one    two  three\n",
              "apple  100.0  111.0  211.0\n",
              "ball   300.0  333.0  633.0\n",
              "bat      NaN  666.0    NaN\n",
              "clock  600.0    NaN    NaN"
            ]
          },
          "metadata": {
            "tags": []
          },
          "execution_count": 10
        }
      ]
    },
    {
      "cell_type": "markdown",
      "metadata": {
        "id": "7rhr2fxrXylU",
        "colab_type": "text"
      },
      "source": [
        "####E) Delete column ‘one’ from ‘df’ using “pop” function, further print values and type of deleted column."
      ]
    },
    {
      "cell_type": "code",
      "metadata": {
        "id": "Q3XNFiEXX0I8",
        "colab_type": "code",
        "outputId": "682d87f9-8d15-48ce-d7a3-65206771f6ca",
        "colab": {
          "base_uri": "https://localhost:8080/",
          "height": 102
        }
      },
      "source": [
        "df.pop('one')"
      ],
      "execution_count": 0,
      "outputs": [
        {
          "output_type": "execute_result",
          "data": {
            "text/plain": [
              "apple    100.0\n",
              "ball     300.0\n",
              "bat        NaN\n",
              "clock    600.0\n",
              "Name: one, dtype: float64"
            ]
          },
          "metadata": {
            "tags": []
          },
          "execution_count": 11
        }
      ]
    },
    {
      "cell_type": "code",
      "metadata": {
        "id": "LAKHPAeeX_b9",
        "colab_type": "code",
        "outputId": "8b2a0a22-3753-4495-b2bd-15bb7b2abd4b",
        "colab": {
          "base_uri": "https://localhost:8080/",
          "height": 102
        }
      },
      "source": [
        "print(df)"
      ],
      "execution_count": 0,
      "outputs": [
        {
          "output_type": "stream",
          "text": [
            "         two  three\n",
            "apple  111.0  211.0\n",
            "ball   333.0  633.0\n",
            "bat    666.0    NaN\n",
            "clock    NaN    NaN\n"
          ],
          "name": "stdout"
        }
      ]
    },
    {
      "cell_type": "markdown",
      "metadata": {
        "id": "QYvZJHYIYM5_",
        "colab_type": "text"
      },
      "source": [
        "\n",
        "\n",
        "\n",
        "\n",
        "####F) Delete column ‘two’ from ‘df’ using del function."
      ]
    },
    {
      "cell_type": "code",
      "metadata": {
        "id": "2leeMh3TYWji",
        "colab_type": "code",
        "outputId": "fc7b375d-780e-419b-a0cb-6d8afa9d6d3c",
        "colab": {
          "base_uri": "https://localhost:8080/",
          "height": 173
        }
      },
      "source": [
        "del df['two']\n",
        "df"
      ],
      "execution_count": 0,
      "outputs": [
        {
          "output_type": "execute_result",
          "data": {
            "text/html": [
              "<div>\n",
              "<style scoped>\n",
              "    .dataframe tbody tr th:only-of-type {\n",
              "        vertical-align: middle;\n",
              "    }\n",
              "\n",
              "    .dataframe tbody tr th {\n",
              "        vertical-align: top;\n",
              "    }\n",
              "\n",
              "    .dataframe thead th {\n",
              "        text-align: right;\n",
              "    }\n",
              "</style>\n",
              "<table border=\"1\" class=\"dataframe\">\n",
              "  <thead>\n",
              "    <tr style=\"text-align: right;\">\n",
              "      <th></th>\n",
              "      <th>three</th>\n",
              "    </tr>\n",
              "  </thead>\n",
              "  <tbody>\n",
              "    <tr>\n",
              "      <th>apple</th>\n",
              "      <td>211.0</td>\n",
              "    </tr>\n",
              "    <tr>\n",
              "      <th>ball</th>\n",
              "      <td>633.0</td>\n",
              "    </tr>\n",
              "    <tr>\n",
              "      <th>bat</th>\n",
              "      <td>NaN</td>\n",
              "    </tr>\n",
              "    <tr>\n",
              "      <th>clock</th>\n",
              "      <td>NaN</td>\n",
              "    </tr>\n",
              "  </tbody>\n",
              "</table>\n",
              "</div>"
            ],
            "text/plain": [
              "       three\n",
              "apple  211.0\n",
              "ball   633.0\n",
              "bat      NaN\n",
              "clock    NaN"
            ]
          },
          "metadata": {
            "tags": []
          },
          "execution_count": 13
        }
      ]
    },
    {
      "cell_type": "markdown",
      "metadata": {
        "id": "XZ8yp_BrYjIQ",
        "colab_type": "text"
      },
      "source": [
        "####G) Insert a column in ‘df’ named as ‘three_upper_half’ having only top two values of column ‘three’."
      ]
    },
    {
      "cell_type": "code",
      "metadata": {
        "id": "M0I3SLFeYkmM",
        "colab_type": "code",
        "outputId": "3ccc8467-083f-46f1-a627-cb7a20847b38",
        "colab": {
          "base_uri": "https://localhost:8080/",
          "height": 173
        }
      },
      "source": [
        "df['three_upper_half'] = df['three'][:2]\n",
        "df"
      ],
      "execution_count": 0,
      "outputs": [
        {
          "output_type": "execute_result",
          "data": {
            "text/html": [
              "<div>\n",
              "<style scoped>\n",
              "    .dataframe tbody tr th:only-of-type {\n",
              "        vertical-align: middle;\n",
              "    }\n",
              "\n",
              "    .dataframe tbody tr th {\n",
              "        vertical-align: top;\n",
              "    }\n",
              "\n",
              "    .dataframe thead th {\n",
              "        text-align: right;\n",
              "    }\n",
              "</style>\n",
              "<table border=\"1\" class=\"dataframe\">\n",
              "  <thead>\n",
              "    <tr style=\"text-align: right;\">\n",
              "      <th></th>\n",
              "      <th>three</th>\n",
              "      <th>three_upper_half</th>\n",
              "    </tr>\n",
              "  </thead>\n",
              "  <tbody>\n",
              "    <tr>\n",
              "      <th>apple</th>\n",
              "      <td>211.0</td>\n",
              "      <td>211.0</td>\n",
              "    </tr>\n",
              "    <tr>\n",
              "      <th>ball</th>\n",
              "      <td>633.0</td>\n",
              "      <td>633.0</td>\n",
              "    </tr>\n",
              "    <tr>\n",
              "      <th>bat</th>\n",
              "      <td>NaN</td>\n",
              "      <td>NaN</td>\n",
              "    </tr>\n",
              "    <tr>\n",
              "      <th>clock</th>\n",
              "      <td>NaN</td>\n",
              "      <td>NaN</td>\n",
              "    </tr>\n",
              "  </tbody>\n",
              "</table>\n",
              "</div>"
            ],
            "text/plain": [
              "       three  three_upper_half\n",
              "apple  211.0             211.0\n",
              "ball   633.0             633.0\n",
              "bat      NaN               NaN\n",
              "clock    NaN               NaN"
            ]
          },
          "metadata": {
            "tags": []
          },
          "execution_count": 14
        }
      ]
    }
  ]
}